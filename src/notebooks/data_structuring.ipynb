{
 "cells": [
  {
   "cell_type": "code",
   "execution_count": 2,
   "id": "2a784d44",
   "metadata": {},
   "outputs": [],
   "source": [
    "import os \n",
    "os.chdir(\"..\")"
   ]
  },
  {
   "cell_type": "code",
   "execution_count": 3,
   "id": "abf61d52",
   "metadata": {},
   "outputs": [],
   "source": [
    "from utils.utils_reader import Reader"
   ]
  },
  {
   "cell_type": "code",
   "execution_count": 3,
   "id": "b701c2bd",
   "metadata": {},
   "outputs": [
    {
     "name": "stderr",
     "output_type": "stream",
     "text": [
      "INFO:LOG-READER:Reader Creation ...\n",
      "INFO:LOG-READER:Reader Created\n"
     ]
    }
   ],
   "source": [
    "reader = Reader()"
   ]
  },
  {
   "cell_type": "code",
   "execution_count": 4,
   "id": "327355d5",
   "metadata": {},
   "outputs": [
    {
     "name": "stderr",
     "output_type": "stream",
     "text": [
      "INFO:LOG-READER:Authentication Kaggle ...\n",
      "INFO:LOG-READER:Authenticated Kaggle\n",
      "INFO:LOG-READER:Downloading ...\n",
      "INFO:LOG-READER:Downloaded\n"
     ]
    }
   ],
   "source": [
    "reader.download()"
   ]
  },
  {
   "cell_type": "code",
   "execution_count": 5,
   "id": "e80ed623",
   "metadata": {},
   "outputs": [
    {
     "name": "stdout",
     "output_type": "stream",
     "text": [
      " Il volume nell'unit… C Š Windows\n",
      " Numero di serie del volume: FA9C-CACE\n",
      "\n",
      " Directory di C:\\Users\\NizarBenSfar\\Desktop\\NLP\\src\n",
      "\n",
      "05/01/2022  14:20    <DIR>          .\n",
      "05/01/2022  14:20    <DIR>          ..\n",
      "05/01/2022  14:10                 0 __init__.py\n",
      "07/01/2022  09:00    <DIR>          data\n",
      "05/01/2022  18:03    <DIR>          notebooks\n",
      "05/01/2022  14:16    <DIR>          utils\n",
      "               1 File              0 byte\n",
      "               5 Directory  347.724.898.304 byte disponibili\n"
     ]
    }
   ],
   "source": [
    "ls"
   ]
  },
  {
   "cell_type": "code",
   "execution_count": 4,
   "id": "6dd6bfc2",
   "metadata": {},
   "outputs": [],
   "source": [
    "import pandas as pd \n",
    "import numpy as np"
   ]
  },
  {
   "cell_type": "code",
   "execution_count": 5,
   "id": "f55d0e76",
   "metadata": {},
   "outputs": [],
   "source": [
    "df = pd.read_csv(\"data/twcs/twcs.csv\")"
   ]
  },
  {
   "cell_type": "code",
   "execution_count": 6,
   "id": "ccc3f460",
   "metadata": {},
   "outputs": [],
   "source": [
    "df = df.sort_values(by=\"tweet_id\").reset_index(drop=True)"
   ]
  },
  {
   "cell_type": "code",
   "execution_count": 7,
   "id": "5aa9e3cb",
   "metadata": {
    "scrolled": false
   },
   "outputs": [
    {
     "data": {
      "text/html": [
       "<div>\n",
       "<style scoped>\n",
       "    .dataframe tbody tr th:only-of-type {\n",
       "        vertical-align: middle;\n",
       "    }\n",
       "\n",
       "    .dataframe tbody tr th {\n",
       "        vertical-align: top;\n",
       "    }\n",
       "\n",
       "    .dataframe thead th {\n",
       "        text-align: right;\n",
       "    }\n",
       "</style>\n",
       "<table border=\"1\" class=\"dataframe\">\n",
       "  <thead>\n",
       "    <tr style=\"text-align: right;\">\n",
       "      <th></th>\n",
       "      <th>tweet_id</th>\n",
       "      <th>author_id</th>\n",
       "      <th>inbound</th>\n",
       "      <th>created_at</th>\n",
       "      <th>text</th>\n",
       "      <th>response_tweet_id</th>\n",
       "      <th>in_response_to_tweet_id</th>\n",
       "    </tr>\n",
       "  </thead>\n",
       "  <tbody>\n",
       "    <tr>\n",
       "      <th>0</th>\n",
       "      <td>1</td>\n",
       "      <td>sprintcare</td>\n",
       "      <td>False</td>\n",
       "      <td>Tue Oct 31 22:10:47 +0000 2017</td>\n",
       "      <td>@115712 I understand. I would like to assist y...</td>\n",
       "      <td>2</td>\n",
       "      <td>3.0</td>\n",
       "    </tr>\n",
       "    <tr>\n",
       "      <th>1</th>\n",
       "      <td>2</td>\n",
       "      <td>115712</td>\n",
       "      <td>True</td>\n",
       "      <td>Tue Oct 31 22:11:45 +0000 2017</td>\n",
       "      <td>@sprintcare and how do you propose we do that</td>\n",
       "      <td>NaN</td>\n",
       "      <td>1.0</td>\n",
       "    </tr>\n",
       "    <tr>\n",
       "      <th>2</th>\n",
       "      <td>3</td>\n",
       "      <td>115712</td>\n",
       "      <td>True</td>\n",
       "      <td>Tue Oct 31 22:08:27 +0000 2017</td>\n",
       "      <td>@sprintcare I have sent several private messag...</td>\n",
       "      <td>1</td>\n",
       "      <td>4.0</td>\n",
       "    </tr>\n",
       "    <tr>\n",
       "      <th>3</th>\n",
       "      <td>4</td>\n",
       "      <td>sprintcare</td>\n",
       "      <td>False</td>\n",
       "      <td>Tue Oct 31 21:54:49 +0000 2017</td>\n",
       "      <td>@115712 Please send us a Private Message so th...</td>\n",
       "      <td>3</td>\n",
       "      <td>5.0</td>\n",
       "    </tr>\n",
       "    <tr>\n",
       "      <th>4</th>\n",
       "      <td>5</td>\n",
       "      <td>115712</td>\n",
       "      <td>True</td>\n",
       "      <td>Tue Oct 31 21:49:35 +0000 2017</td>\n",
       "      <td>@sprintcare I did.</td>\n",
       "      <td>4</td>\n",
       "      <td>6.0</td>\n",
       "    </tr>\n",
       "    <tr>\n",
       "      <th>...</th>\n",
       "      <td>...</td>\n",
       "      <td>...</td>\n",
       "      <td>...</td>\n",
       "      <td>...</td>\n",
       "      <td>...</td>\n",
       "      <td>...</td>\n",
       "      <td>...</td>\n",
       "    </tr>\n",
       "    <tr>\n",
       "      <th>95</th>\n",
       "      <td>115</td>\n",
       "      <td>737705</td>\n",
       "      <td>True</td>\n",
       "      <td>Mon Oct 30 21:33:37 +0000 2017</td>\n",
       "      <td>@ChipotleTweets ummmmm my outfit is a meme so ...</td>\n",
       "      <td>2607927</td>\n",
       "      <td>81.0</td>\n",
       "    </tr>\n",
       "    <tr>\n",
       "      <th>96</th>\n",
       "      <td>116</td>\n",
       "      <td>741212</td>\n",
       "      <td>True</td>\n",
       "      <td>Mon Oct 30 22:18:22 +0000 2017</td>\n",
       "      <td>@ChipotleTweets Are bowls included?</td>\n",
       "      <td>2623746</td>\n",
       "      <td>81.0</td>\n",
       "    </tr>\n",
       "    <tr>\n",
       "      <th>97</th>\n",
       "      <td>117</td>\n",
       "      <td>741888</td>\n",
       "      <td>True</td>\n",
       "      <td>Tue Oct 31 00:04:44 +0000 2017</td>\n",
       "      <td>@ChipotleTweets the offer is one per person?</td>\n",
       "      <td>2626579</td>\n",
       "      <td>81.0</td>\n",
       "    </tr>\n",
       "    <tr>\n",
       "      <th>98</th>\n",
       "      <td>119</td>\n",
       "      <td>745138</td>\n",
       "      <td>True</td>\n",
       "      <td>Tue Oct 31 00:46:48 +0000 2017</td>\n",
       "      <td>@ChipotleTweets Are guac and extra meat includ...</td>\n",
       "      <td>2640340</td>\n",
       "      <td>81.0</td>\n",
       "    </tr>\n",
       "    <tr>\n",
       "      <th>99</th>\n",
       "      <td>121</td>\n",
       "      <td>745648</td>\n",
       "      <td>True</td>\n",
       "      <td>Tue Oct 31 01:42:33 +0000 2017</td>\n",
       "      <td>@ChipotleTweets Soooooo how elaborate does my ...</td>\n",
       "      <td>2642460</td>\n",
       "      <td>81.0</td>\n",
       "    </tr>\n",
       "  </tbody>\n",
       "</table>\n",
       "<p>100 rows × 7 columns</p>\n",
       "</div>"
      ],
      "text/plain": [
       "    tweet_id   author_id  inbound                      created_at  \\\n",
       "0          1  sprintcare    False  Tue Oct 31 22:10:47 +0000 2017   \n",
       "1          2      115712     True  Tue Oct 31 22:11:45 +0000 2017   \n",
       "2          3      115712     True  Tue Oct 31 22:08:27 +0000 2017   \n",
       "3          4  sprintcare    False  Tue Oct 31 21:54:49 +0000 2017   \n",
       "4          5      115712     True  Tue Oct 31 21:49:35 +0000 2017   \n",
       "..       ...         ...      ...                             ...   \n",
       "95       115      737705     True  Mon Oct 30 21:33:37 +0000 2017   \n",
       "96       116      741212     True  Mon Oct 30 22:18:22 +0000 2017   \n",
       "97       117      741888     True  Tue Oct 31 00:04:44 +0000 2017   \n",
       "98       119      745138     True  Tue Oct 31 00:46:48 +0000 2017   \n",
       "99       121      745648     True  Tue Oct 31 01:42:33 +0000 2017   \n",
       "\n",
       "                                                 text response_tweet_id  \\\n",
       "0   @115712 I understand. I would like to assist y...                 2   \n",
       "1       @sprintcare and how do you propose we do that               NaN   \n",
       "2   @sprintcare I have sent several private messag...                 1   \n",
       "3   @115712 Please send us a Private Message so th...                 3   \n",
       "4                                  @sprintcare I did.                 4   \n",
       "..                                                ...               ...   \n",
       "95  @ChipotleTweets ummmmm my outfit is a meme so ...           2607927   \n",
       "96                @ChipotleTweets Are bowls included?           2623746   \n",
       "97       @ChipotleTweets the offer is one per person?           2626579   \n",
       "98  @ChipotleTweets Are guac and extra meat includ...           2640340   \n",
       "99  @ChipotleTweets Soooooo how elaborate does my ...           2642460   \n",
       "\n",
       "    in_response_to_tweet_id  \n",
       "0                       3.0  \n",
       "1                       1.0  \n",
       "2                       4.0  \n",
       "3                       5.0  \n",
       "4                       6.0  \n",
       "..                      ...  \n",
       "95                     81.0  \n",
       "96                     81.0  \n",
       "97                     81.0  \n",
       "98                     81.0  \n",
       "99                     81.0  \n",
       "\n",
       "[100 rows x 7 columns]"
      ]
     },
     "metadata": {},
     "output_type": "display_data"
    }
   ],
   "source": [
    "display(df.head(100))"
   ]
  },
  {
   "cell_type": "code",
   "execution_count": 8,
   "id": "561f631a",
   "metadata": {},
   "outputs": [
    {
     "data": {
      "text/plain": [
       "(2811774, 7)"
      ]
     },
     "execution_count": 8,
     "metadata": {},
     "output_type": "execute_result"
    }
   ],
   "source": [
    "df.shape"
   ]
  },
  {
   "cell_type": "code",
   "execution_count": 85,
   "id": "3ad7b0af",
   "metadata": {},
   "outputs": [],
   "source": [
    "tweet_ids = df.tweet_id.values"
   ]
  },
  {
   "cell_type": "code",
   "execution_count": 86,
   "id": "aef3981d",
   "metadata": {},
   "outputs": [],
   "source": [
    "starter_tweet_ids = df[df.in_response_to_tweet_id.isna()].tweet_id.values"
   ]
  },
  {
   "cell_type": "code",
   "execution_count": 82,
   "id": "41f2b3f2",
   "metadata": {},
   "outputs": [],
   "source": [
    "class Node:\n",
    "    def __init__(self, tweet_id):\n",
    "        row = df[df.tweet_id == tweet_id].to_dict(orient=\"records\")[0]\n",
    "        self.value = row\n",
    "        if type(row[\"response_tweet_id\"]) == str :\n",
    "            self.childrens = [int(x) for x in row[\"response_tweet_id\"].split(\",\")]\n",
    "            list_to_check = self.childrens.copy()\n",
    "            for c in list_to_check:\n",
    "                if c not in tweet_ids:\n",
    "                    self.childrens.remove(c)\n",
    "        else:\n",
    "            self.childrens = []\n",
    "        self.children_nodes = list()\n",
    "        self.__go_deeper()\n",
    "    \n",
    "    def __go_deeper(self):\n",
    "        for children in self.childrens:\n",
    "            if (self.__check_children(children)):\n",
    "                self.children_nodes.append(self.__go_deeper_by_children(children))\n",
    "\n",
    "    def __go_deeper_by_children(self , children):\n",
    "        children_node = Node(children) \n",
    "        return children_node\n",
    "    \n",
    "    def __check_children(self, children):\n",
    "        return children in tweet_ids\n",
    "    \n",
    "    def explore(self):\n",
    "        print(self.value)\n",
    "        for children in self.children_nodes:\n",
    "            children.explore()\n",
    "            \n",
    "    def __repr__(self):\n",
    "        return \"{\\n\" + f\"{self.value},\\n {self.childrens}\" + \"\".join([repr(s) for s in self.children_nodes]) + \"\\n}\"\n",
    "    \n",
    "    def __str__ (self):\n",
    "        return \"{\\n\" + f\"{self.value}\" + \"\\n}\""
   ]
  },
  {
   "cell_type": "code",
   "execution_count": 83,
   "id": "b4e5d7b5",
   "metadata": {},
   "outputs": [],
   "source": [
    "class NodesList:\n",
    "    tread = 0\n",
    "    def __init__(self, list_id):\n",
    "        i = 0\n",
    "        self.nodes_list = list()\n",
    "        for x in starter_tweet_ids: \n",
    "            i+=1\n",
    "            self.nodes_list.append(Node(x, NodesList.tread))\n",
    "            NodeList.tread\n",
    "            if i%50 == 0:\n",
    "                print(f\"{i} / {len(starter_tweet_ids)}\")"
   ]
  },
  {
   "cell_type": "code",
   "execution_count": 197,
   "id": "86fac68f",
   "metadata": {},
   "outputs": [],
   "source": [
    "n  = Node(81)"
   ]
  },
  {
   "cell_type": "code",
   "execution_count": 207,
   "id": "b53d6404",
   "metadata": {},
   "outputs": [
    {
     "data": {
      "text/plain": [
       "33"
      ]
     },
     "execution_count": 207,
     "metadata": {},
     "output_type": "execute_result"
    }
   ],
   "source": [
    "len(decomposition(n))"
   ]
  },
  {
   "cell_type": "code",
   "execution_count": 120,
   "id": "540310cf",
   "metadata": {},
   "outputs": [
    {
     "name": "stdout",
     "output_type": "stream",
     "text": [
      "50 / 50\n"
     ]
    }
   ],
   "source": [
    "nodes_list = NodesList(starter_tweet_ids) "
   ]
  },
  {
   "cell_type": "code",
   "execution_count": 80,
   "id": "bd93de2c",
   "metadata": {},
   "outputs": [],
   "source": [
    "def decomposition(f):\n",
    "    res = []\n",
    "    if len(f.children_nodes) == 0:\n",
    "        return [f.value]\n",
    "    else:\n",
    "        for c in f.children_nodes:\n",
    "            tmp = [f.value , decomposition(c)]\n",
    "            res.append(tmp)\n",
    "    return res"
   ]
  },
  {
   "cell_type": "code",
   "execution_count": 81,
   "id": "ade72f9d",
   "metadata": {},
   "outputs": [],
   "source": [
    "def chek_singolarity(row):\n",
    "    if type(row[\"response_tweet_id\"]) == str :\n",
    "        childrens = [int(x) for x in row[\"response_tweet_id\"].split(\",\")]\n",
    "        list_to_check = childrens.copy()\n",
    "        for c in list_to_check:\n",
    "            if c not in tweet_ids:\n",
    "                childrens.remove(c)\n",
    "    else:\n",
    "        childrens = []\n",
    "    return len(childrens)"
   ]
  },
  {
   "cell_type": "code",
   "execution_count": 179,
   "id": "ea2bf272",
   "metadata": {},
   "outputs": [],
   "source": [
    "z = decomposition(Node(29))"
   ]
  },
  {
   "cell_type": "code",
   "execution_count": 180,
   "id": "18d73f28",
   "metadata": {},
   "outputs": [
    {
     "data": {
      "text/plain": [
       "[[{'tweet_id': 29,\n",
       "   'author_id': '115716',\n",
       "   'inbound': True,\n",
       "   'created_at': 'Tue Oct 31 22:01:35 +0000 2017',\n",
       "   'text': \"actually that's a broken link you sent me and incorrect information https://t.co/V4yfrHR8VI\",\n",
       "   'response_tweet_id': '28',\n",
       "   'in_response_to_tweet_id': nan,\n",
       "   'COUNTER': 1},\n",
       "  [[{'tweet_id': 28,\n",
       "     'author_id': 'Ask_Spectrum',\n",
       "     'inbound': False,\n",
       "     'created_at': 'Tue Oct 31 22:05:37 +0000 2017',\n",
       "     'text': '@115716 The information pertaining to the account assumption is correct.  This does need to be done at a local outlet wit... https://t.co/P7XCmTzPQj',\n",
       "     'response_tweet_id': '24',\n",
       "     'in_response_to_tweet_id': 29.0,\n",
       "     'COUNTER': 1},\n",
       "    [[{'tweet_id': 24,\n",
       "       'author_id': '115716',\n",
       "       'inbound': True,\n",
       "       'created_at': 'Tue Oct 31 22:13:02 +0000 2017',\n",
       "       'text': '@Ask_Spectrum That is INCORRECT information I have the form in front of me that is faxed over-maybe you need to maintain up to date information',\n",
       "       'response_tweet_id': '21',\n",
       "       'in_response_to_tweet_id': 28.0,\n",
       "       'COUNTER': 1},\n",
       "      [[{'tweet_id': 21,\n",
       "         'author_id': 'Ask_Spectrum',\n",
       "         'inbound': False,\n",
       "         'created_at': 'Tue Oct 31 22:14:37 +0000 2017',\n",
       "         'text': '@115716 What information is incorrect? ^JK',\n",
       "         'response_tweet_id': '22,23',\n",
       "         'in_response_to_tweet_id': 24.0,\n",
       "         'COUNTER': 2},\n",
       "        [[{'tweet_id': 22,\n",
       "           'author_id': '115716',\n",
       "           'inbound': True,\n",
       "           'created_at': 'Tue Oct 31 22:16:48 +0000 2017',\n",
       "           'text': '@Ask_Spectrum Would you like me to email you a copy of one since Spectrum is not updating your training?',\n",
       "           'response_tweet_id': '25',\n",
       "           'in_response_to_tweet_id': 21.0,\n",
       "           'COUNTER': 1},\n",
       "          [[{'tweet_id': 25,\n",
       "             'author_id': 'Ask_Spectrum',\n",
       "             'inbound': False,\n",
       "             'created_at': 'Tue Oct 31 22:18:28 +0000 2017',\n",
       "             'text': \"@115716 Our department is part of the corporate office.  If you're particular area has gone to this format, we were unawa... https://t.co/P7XCmTzPQj\",\n",
       "             'response_tweet_id': '26',\n",
       "             'in_response_to_tweet_id': 22.0,\n",
       "             'COUNTER': 1},\n",
       "            [[{'tweet_id': 26,\n",
       "               'author_id': '115716',\n",
       "               'inbound': True,\n",
       "               'created_at': 'Tue Oct 31 22:19:56 +0000 2017',\n",
       "               'text': '@Ask_Spectrum I received this from your corporate office would you like a copy?',\n",
       "               'response_tweet_id': '27',\n",
       "               'in_response_to_tweet_id': 25.0,\n",
       "               'COUNTER': 1},\n",
       "              [{'tweet_id': 27,\n",
       "                'author_id': 'Ask_Spectrum',\n",
       "                'inbound': False,\n",
       "                'created_at': 'Tue Oct 31 22:21:26 +0000 2017',\n",
       "                'text': '@115716 No thank you. ^JK',\n",
       "                'response_tweet_id': nan,\n",
       "                'in_response_to_tweet_id': 26.0,\n",
       "                'COUNTER': 0}]]]]]]]],\n",
       "       [{'tweet_id': 21,\n",
       "         'author_id': 'Ask_Spectrum',\n",
       "         'inbound': False,\n",
       "         'created_at': 'Tue Oct 31 22:14:37 +0000 2017',\n",
       "         'text': '@115716 What information is incorrect? ^JK',\n",
       "         'response_tweet_id': '22,23',\n",
       "         'in_response_to_tweet_id': 24.0,\n",
       "         'COUNTER': 2},\n",
       "        [{'tweet_id': 23,\n",
       "          'author_id': '115716',\n",
       "          'inbound': True,\n",
       "          'created_at': 'Tue Oct 31 22:16:05 +0000 2017',\n",
       "          'text': '@Ask_Spectrum The correct way to do it is via an OCS Account Takeover and email Consent Form it does not need to be done in a local office',\n",
       "          'response_tweet_id': nan,\n",
       "          'in_response_to_tweet_id': 21.0,\n",
       "          'COUNTER': 0}]]]]]]]]]"
      ]
     },
     "execution_count": 180,
     "metadata": {},
     "output_type": "execute_result"
    }
   ],
   "source": [
    "z"
   ]
  },
  {
   "cell_type": "code",
   "execution_count": 184,
   "id": "95878a48",
   "metadata": {},
   "outputs": [
    {
     "data": {
      "text/plain": [
       "1"
      ]
     },
     "execution_count": 184,
     "metadata": {},
     "output_type": "execute_result"
    }
   ],
   "source": [
    "len(z[0][1])"
   ]
  },
  {
   "cell_type": "code",
   "execution_count": 191,
   "id": "af645560",
   "metadata": {},
   "outputs": [
    {
     "data": {
      "text/html": [
       "<div>\n",
       "<style scoped>\n",
       "    .dataframe tbody tr th:only-of-type {\n",
       "        vertical-align: middle;\n",
       "    }\n",
       "\n",
       "    .dataframe tbody tr th {\n",
       "        vertical-align: top;\n",
       "    }\n",
       "\n",
       "    .dataframe thead th {\n",
       "        text-align: right;\n",
       "    }\n",
       "</style>\n",
       "<table border=\"1\" class=\"dataframe\">\n",
       "  <thead>\n",
       "    <tr style=\"text-align: right;\">\n",
       "      <th></th>\n",
       "      <th>tweet_id</th>\n",
       "      <th>author_id</th>\n",
       "      <th>inbound</th>\n",
       "      <th>created_at</th>\n",
       "      <th>text</th>\n",
       "      <th>response_tweet_id</th>\n",
       "      <th>in_response_to_tweet_id</th>\n",
       "      <th>COUNTER</th>\n",
       "    </tr>\n",
       "  </thead>\n",
       "  <tbody>\n",
       "  </tbody>\n",
       "</table>\n",
       "</div>"
      ],
      "text/plain": [
       "Empty DataFrame\n",
       "Columns: [tweet_id, author_id, inbound, created_at, text, response_tweet_id, in_response_to_tweet_id, COUNTER]\n",
       "Index: []"
      ]
     },
     "execution_count": 191,
     "metadata": {},
     "output_type": "execute_result"
    }
   ],
   "source": [
    "df[df.tweet_id.isin(starter_tweet_ids) & df.COUNTER>1]"
   ]
  },
  {
   "cell_type": "code",
   "execution_count": 187,
   "id": "69d118fe",
   "metadata": {},
   "outputs": [
    {
     "data": {
      "text/plain": [
       "array([  1,   2,   3,   4,   5,   6,   8,  11,  12,  15,  16,  17,  18,\n",
       "        19,  20,  21,  22,  25,  26,  27,  23,  24,  28,  29,  30,  31,\n",
       "        32,  33,  34,  35,  37,  36,  38,  39,  40,  41,  43,  44,  45,\n",
       "        42,  46,  47,  48,  49,  50,  51,  52,  53,  54,  55,  56,  57,\n",
       "        58,  59,  60,  61,  62,  63,  64,  65,  66,  68,  69,  70,  71,\n",
       "        73,  74,  75,  76,  77,  78,  79,  80,  81, 152, 153, 154, 155,\n",
       "       156, 158, 159, 160, 161, 162, 163, 164, 165, 166, 167, 168, 169,\n",
       "       170, 171, 172, 174, 175, 176, 177, 178, 179, 180, 182, 183, 184,\n",
       "       185, 187, 188, 190, 191, 192, 193, 194, 195, 199, 200, 196, 197,\n",
       "       198, 201, 202, 203, 204, 205, 207, 208, 209, 210, 211, 212, 214,\n",
       "       213, 215, 216, 217, 218, 219, 220, 221, 222, 224, 225, 227, 228,\n",
       "       229, 230, 226, 231, 232, 234, 235, 236, 237, 238, 239, 240, 241,\n",
       "       243, 244, 242, 245, 247, 249, 250, 251, 252, 254, 255, 256, 257,\n",
       "       258, 259, 260, 261, 262, 263, 265, 267, 266, 264, 268, 253, 269,\n",
       "       270, 271, 273, 274, 275, 272, 276, 277, 278, 279, 280, 281, 282,\n",
       "       283, 284, 285, 287, 288], dtype=int64)"
      ]
     },
     "execution_count": 187,
     "metadata": {},
     "output_type": "execute_result"
    }
   ],
   "source": [
    "tweet_ids"
   ]
  },
  {
   "cell_type": "code",
   "execution_count": 13,
   "id": "2f47ffa2",
   "metadata": {},
   "outputs": [],
   "source": [
    "sub = df.iloc[:200].copy()"
   ]
  },
  {
   "cell_type": "code",
   "execution_count": 14,
   "id": "11a7aa71",
   "metadata": {},
   "outputs": [
    {
     "data": {
      "text/html": [
       "<div>\n",
       "<style scoped>\n",
       "    .dataframe tbody tr th:only-of-type {\n",
       "        vertical-align: middle;\n",
       "    }\n",
       "\n",
       "    .dataframe tbody tr th {\n",
       "        vertical-align: top;\n",
       "    }\n",
       "\n",
       "    .dataframe thead th {\n",
       "        text-align: right;\n",
       "    }\n",
       "</style>\n",
       "<table border=\"1\" class=\"dataframe\">\n",
       "  <thead>\n",
       "    <tr style=\"text-align: right;\">\n",
       "      <th></th>\n",
       "      <th>tweet_id</th>\n",
       "      <th>author_id</th>\n",
       "      <th>inbound</th>\n",
       "      <th>created_at</th>\n",
       "      <th>text</th>\n",
       "      <th>response_tweet_id</th>\n",
       "      <th>in_response_to_tweet_id</th>\n",
       "    </tr>\n",
       "  </thead>\n",
       "  <tbody>\n",
       "    <tr>\n",
       "      <th>0</th>\n",
       "      <td>1</td>\n",
       "      <td>sprintcare</td>\n",
       "      <td>False</td>\n",
       "      <td>Tue Oct 31 22:10:47 +0000 2017</td>\n",
       "      <td>@115712 I understand. I would like to assist y...</td>\n",
       "      <td>2</td>\n",
       "      <td>3.0</td>\n",
       "    </tr>\n",
       "    <tr>\n",
       "      <th>1</th>\n",
       "      <td>2</td>\n",
       "      <td>115712</td>\n",
       "      <td>True</td>\n",
       "      <td>Tue Oct 31 22:11:45 +0000 2017</td>\n",
       "      <td>@sprintcare and how do you propose we do that</td>\n",
       "      <td>NaN</td>\n",
       "      <td>1.0</td>\n",
       "    </tr>\n",
       "    <tr>\n",
       "      <th>2</th>\n",
       "      <td>3</td>\n",
       "      <td>115712</td>\n",
       "      <td>True</td>\n",
       "      <td>Tue Oct 31 22:08:27 +0000 2017</td>\n",
       "      <td>@sprintcare I have sent several private messag...</td>\n",
       "      <td>1</td>\n",
       "      <td>4.0</td>\n",
       "    </tr>\n",
       "    <tr>\n",
       "      <th>3</th>\n",
       "      <td>4</td>\n",
       "      <td>sprintcare</td>\n",
       "      <td>False</td>\n",
       "      <td>Tue Oct 31 21:54:49 +0000 2017</td>\n",
       "      <td>@115712 Please send us a Private Message so th...</td>\n",
       "      <td>3</td>\n",
       "      <td>5.0</td>\n",
       "    </tr>\n",
       "    <tr>\n",
       "      <th>4</th>\n",
       "      <td>5</td>\n",
       "      <td>115712</td>\n",
       "      <td>True</td>\n",
       "      <td>Tue Oct 31 21:49:35 +0000 2017</td>\n",
       "      <td>@sprintcare I did.</td>\n",
       "      <td>4</td>\n",
       "      <td>6.0</td>\n",
       "    </tr>\n",
       "    <tr>\n",
       "      <th>...</th>\n",
       "      <td>...</td>\n",
       "      <td>...</td>\n",
       "      <td>...</td>\n",
       "      <td>...</td>\n",
       "      <td>...</td>\n",
       "      <td>...</td>\n",
       "      <td>...</td>\n",
       "    </tr>\n",
       "    <tr>\n",
       "      <th>195</th>\n",
       "      <td>240</td>\n",
       "      <td>AdobeCare</td>\n",
       "      <td>False</td>\n",
       "      <td>Tue Oct 31 22:14:17 +0000 2017</td>\n",
       "      <td>@115767 Sorry that this isn't more simple... l...</td>\n",
       "      <td>241</td>\n",
       "      <td>242.0</td>\n",
       "    </tr>\n",
       "    <tr>\n",
       "      <th>196</th>\n",
       "      <td>241</td>\n",
       "      <td>115767</td>\n",
       "      <td>True</td>\n",
       "      <td>Wed Nov 01 00:29:55 +0000 2017</td>\n",
       "      <td>@AdobeCare Didn't work. Tried it on another co...</td>\n",
       "      <td>243</td>\n",
       "      <td>240.0</td>\n",
       "    </tr>\n",
       "    <tr>\n",
       "      <th>197</th>\n",
       "      <td>242</td>\n",
       "      <td>115767</td>\n",
       "      <td>True</td>\n",
       "      <td>Tue Oct 31 22:11:01 +0000 2017</td>\n",
       "      <td>@AdobeCare the ctrl+alt+shift on load method d...</td>\n",
       "      <td>240</td>\n",
       "      <td>245.0</td>\n",
       "    </tr>\n",
       "    <tr>\n",
       "      <th>198</th>\n",
       "      <td>243</td>\n",
       "      <td>AdobeCare</td>\n",
       "      <td>False</td>\n",
       "      <td>Wed Nov 01 00:53:51 +0000 2017</td>\n",
       "      <td>@115767 Would you please DM the Adobe Product ...</td>\n",
       "      <td>244</td>\n",
       "      <td>241.0</td>\n",
       "    </tr>\n",
       "    <tr>\n",
       "      <th>199</th>\n",
       "      <td>244</td>\n",
       "      <td>115767</td>\n",
       "      <td>True</td>\n",
       "      <td>Wed Nov 01 01:30:43 +0000 2017</td>\n",
       "      <td>@AdobeCare sure thing</td>\n",
       "      <td>NaN</td>\n",
       "      <td>243.0</td>\n",
       "    </tr>\n",
       "  </tbody>\n",
       "</table>\n",
       "<p>200 rows × 7 columns</p>\n",
       "</div>"
      ],
      "text/plain": [
       "     tweet_id   author_id  inbound                      created_at  \\\n",
       "0           1  sprintcare    False  Tue Oct 31 22:10:47 +0000 2017   \n",
       "1           2      115712     True  Tue Oct 31 22:11:45 +0000 2017   \n",
       "2           3      115712     True  Tue Oct 31 22:08:27 +0000 2017   \n",
       "3           4  sprintcare    False  Tue Oct 31 21:54:49 +0000 2017   \n",
       "4           5      115712     True  Tue Oct 31 21:49:35 +0000 2017   \n",
       "..        ...         ...      ...                             ...   \n",
       "195       240   AdobeCare    False  Tue Oct 31 22:14:17 +0000 2017   \n",
       "196       241      115767     True  Wed Nov 01 00:29:55 +0000 2017   \n",
       "197       242      115767     True  Tue Oct 31 22:11:01 +0000 2017   \n",
       "198       243   AdobeCare    False  Wed Nov 01 00:53:51 +0000 2017   \n",
       "199       244      115767     True  Wed Nov 01 01:30:43 +0000 2017   \n",
       "\n",
       "                                                  text response_tweet_id  \\\n",
       "0    @115712 I understand. I would like to assist y...                 2   \n",
       "1        @sprintcare and how do you propose we do that               NaN   \n",
       "2    @sprintcare I have sent several private messag...                 1   \n",
       "3    @115712 Please send us a Private Message so th...                 3   \n",
       "4                                   @sprintcare I did.                 4   \n",
       "..                                                 ...               ...   \n",
       "195  @115767 Sorry that this isn't more simple... l...               241   \n",
       "196  @AdobeCare Didn't work. Tried it on another co...               243   \n",
       "197  @AdobeCare the ctrl+alt+shift on load method d...               240   \n",
       "198  @115767 Would you please DM the Adobe Product ...               244   \n",
       "199                              @AdobeCare sure thing               NaN   \n",
       "\n",
       "     in_response_to_tweet_id  \n",
       "0                        3.0  \n",
       "1                        1.0  \n",
       "2                        4.0  \n",
       "3                        5.0  \n",
       "4                        6.0  \n",
       "..                       ...  \n",
       "195                    242.0  \n",
       "196                    240.0  \n",
       "197                    245.0  \n",
       "198                    241.0  \n",
       "199                    243.0  \n",
       "\n",
       "[200 rows x 7 columns]"
      ]
     },
     "execution_count": 14,
     "metadata": {},
     "output_type": "execute_result"
    }
   ],
   "source": [
    "sub"
   ]
  },
  {
   "cell_type": "code",
   "execution_count": 15,
   "id": "021d488e",
   "metadata": {},
   "outputs": [],
   "source": [
    "import re"
   ]
  },
  {
   "cell_type": "code",
   "execution_count": 16,
   "id": "0f812acb",
   "metadata": {},
   "outputs": [],
   "source": [
    "def extract_company(row):\n",
    "    tags = [ x.replace(\"@\",\"\") for x in re.findall(r'@\\w+', row.text)]\n",
    "    res = np.unique([x for x in tags if not x.isnumeric()])\n",
    "    if len(res) == 0:\n",
    "        if row.author_id.isnumeric():\n",
    "            return np.NaN\n",
    "        else:\n",
    "            return row.author_id\n",
    "    else:\n",
    "        res = res[0]\n",
    "        if res == row.author_id:\n",
    "            return res\n",
    "        else:\n",
    "            if (res != row.author_id) & (not row.author_id.isnumeric()):\n",
    "                return row.author_id\n",
    "            else:\n",
    "                return res"
   ]
  },
  {
   "cell_type": "code",
   "execution_count": 17,
   "id": "801973d0",
   "metadata": {},
   "outputs": [],
   "source": [
    "sub[\"company\"] = sub.apply(extract_company, axis=1)"
   ]
  },
  {
   "cell_type": "code",
   "execution_count": 18,
   "id": "df4284b3",
   "metadata": {},
   "outputs": [
    {
     "data": {
      "text/plain": [
       "ChipotleTweets     75\n",
       "ATVIAssist         28\n",
       "VerizonSupport     23\n",
       "sprintcare         18\n",
       "marksandspencer    13\n",
       "Ask_Spectrum       12\n",
       "AskPlayStation      9\n",
       "MicrosoftHelps      6\n",
       "AdobeCare           5\n",
       "Name: company, dtype: int64"
      ]
     },
     "execution_count": 18,
     "metadata": {},
     "output_type": "execute_result"
    }
   ],
   "source": [
    "sub.company.value_counts()"
   ]
  },
  {
   "cell_type": "code",
   "execution_count": 19,
   "id": "1c10079e",
   "metadata": {
    "scrolled": true
   },
   "outputs": [
    {
     "data": {
      "text/html": [
       "<div>\n",
       "<style scoped>\n",
       "    .dataframe tbody tr th:only-of-type {\n",
       "        vertical-align: middle;\n",
       "    }\n",
       "\n",
       "    .dataframe tbody tr th {\n",
       "        vertical-align: top;\n",
       "    }\n",
       "\n",
       "    .dataframe thead th {\n",
       "        text-align: right;\n",
       "    }\n",
       "</style>\n",
       "<table border=\"1\" class=\"dataframe\">\n",
       "  <thead>\n",
       "    <tr style=\"text-align: right;\">\n",
       "      <th></th>\n",
       "      <th>tweet_id</th>\n",
       "      <th>author_id</th>\n",
       "      <th>inbound</th>\n",
       "      <th>created_at</th>\n",
       "      <th>text</th>\n",
       "      <th>response_tweet_id</th>\n",
       "      <th>in_response_to_tweet_id</th>\n",
       "      <th>company</th>\n",
       "    </tr>\n",
       "  </thead>\n",
       "  <tbody>\n",
       "    <tr>\n",
       "      <th>0</th>\n",
       "      <td>1</td>\n",
       "      <td>sprintcare</td>\n",
       "      <td>False</td>\n",
       "      <td>Tue Oct 31 22:10:47 +0000 2017</td>\n",
       "      <td>@115712 I understand. I would like to assist y...</td>\n",
       "      <td>2</td>\n",
       "      <td>3.0</td>\n",
       "      <td>sprintcare</td>\n",
       "    </tr>\n",
       "    <tr>\n",
       "      <th>1</th>\n",
       "      <td>2</td>\n",
       "      <td>115712</td>\n",
       "      <td>True</td>\n",
       "      <td>Tue Oct 31 22:11:45 +0000 2017</td>\n",
       "      <td>@sprintcare and how do you propose we do that</td>\n",
       "      <td>NaN</td>\n",
       "      <td>1.0</td>\n",
       "      <td>sprintcare</td>\n",
       "    </tr>\n",
       "    <tr>\n",
       "      <th>2</th>\n",
       "      <td>3</td>\n",
       "      <td>115712</td>\n",
       "      <td>True</td>\n",
       "      <td>Tue Oct 31 22:08:27 +0000 2017</td>\n",
       "      <td>@sprintcare I have sent several private messag...</td>\n",
       "      <td>1</td>\n",
       "      <td>4.0</td>\n",
       "      <td>sprintcare</td>\n",
       "    </tr>\n",
       "    <tr>\n",
       "      <th>3</th>\n",
       "      <td>4</td>\n",
       "      <td>sprintcare</td>\n",
       "      <td>False</td>\n",
       "      <td>Tue Oct 31 21:54:49 +0000 2017</td>\n",
       "      <td>@115712 Please send us a Private Message so th...</td>\n",
       "      <td>3</td>\n",
       "      <td>5.0</td>\n",
       "      <td>sprintcare</td>\n",
       "    </tr>\n",
       "    <tr>\n",
       "      <th>4</th>\n",
       "      <td>5</td>\n",
       "      <td>115712</td>\n",
       "      <td>True</td>\n",
       "      <td>Tue Oct 31 21:49:35 +0000 2017</td>\n",
       "      <td>@sprintcare I did.</td>\n",
       "      <td>4</td>\n",
       "      <td>6.0</td>\n",
       "      <td>sprintcare</td>\n",
       "    </tr>\n",
       "  </tbody>\n",
       "</table>\n",
       "</div>"
      ],
      "text/plain": [
       "   tweet_id   author_id  inbound                      created_at  \\\n",
       "0         1  sprintcare    False  Tue Oct 31 22:10:47 +0000 2017   \n",
       "1         2      115712     True  Tue Oct 31 22:11:45 +0000 2017   \n",
       "2         3      115712     True  Tue Oct 31 22:08:27 +0000 2017   \n",
       "3         4  sprintcare    False  Tue Oct 31 21:54:49 +0000 2017   \n",
       "4         5      115712     True  Tue Oct 31 21:49:35 +0000 2017   \n",
       "\n",
       "                                                text response_tweet_id  \\\n",
       "0  @115712 I understand. I would like to assist y...                 2   \n",
       "1      @sprintcare and how do you propose we do that               NaN   \n",
       "2  @sprintcare I have sent several private messag...                 1   \n",
       "3  @115712 Please send us a Private Message so th...                 3   \n",
       "4                                 @sprintcare I did.                 4   \n",
       "\n",
       "   in_response_to_tweet_id     company  \n",
       "0                      3.0  sprintcare  \n",
       "1                      1.0  sprintcare  \n",
       "2                      4.0  sprintcare  \n",
       "3                      5.0  sprintcare  \n",
       "4                      6.0  sprintcare  "
      ]
     },
     "execution_count": 19,
     "metadata": {},
     "output_type": "execute_result"
    }
   ],
   "source": [
    "sub.head()"
   ]
  },
  {
   "cell_type": "code",
   "execution_count": 20,
   "id": "d469d275",
   "metadata": {},
   "outputs": [
    {
     "name": "stderr",
     "output_type": "stream",
     "text": [
      "INFO:numexpr.utils:NumExpr defaulting to 8 threads.\n"
     ]
    },
    {
     "data": {
      "text/html": [
       "<div>\n",
       "<style scoped>\n",
       "    .dataframe tbody tr th:only-of-type {\n",
       "        vertical-align: middle;\n",
       "    }\n",
       "\n",
       "    .dataframe tbody tr th {\n",
       "        vertical-align: top;\n",
       "    }\n",
       "\n",
       "    .dataframe thead th {\n",
       "        text-align: right;\n",
       "    }\n",
       "</style>\n",
       "<table border=\"1\" class=\"dataframe\">\n",
       "  <thead>\n",
       "    <tr style=\"text-align: right;\">\n",
       "      <th></th>\n",
       "      <th>tweet_id</th>\n",
       "      <th>author_id</th>\n",
       "      <th>inbound</th>\n",
       "      <th>created_at</th>\n",
       "      <th>text</th>\n",
       "      <th>response_tweet_id</th>\n",
       "      <th>in_response_to_tweet_id</th>\n",
       "      <th>company</th>\n",
       "    </tr>\n",
       "  </thead>\n",
       "  <tbody>\n",
       "    <tr>\n",
       "      <th>160</th>\n",
       "      <td>203</td>\n",
       "      <td>MicrosoftHelps</td>\n",
       "      <td>False</td>\n",
       "      <td>Tue Oct 31 22:08:00 +0000 2017</td>\n",
       "      <td>@115751 Hello, Josh! To get better assistance ...</td>\n",
       "      <td>204</td>\n",
       "      <td>205.0</td>\n",
       "      <td>MicrosoftHelps</td>\n",
       "    </tr>\n",
       "  </tbody>\n",
       "</table>\n",
       "</div>"
      ],
      "text/plain": [
       "     tweet_id       author_id  inbound                      created_at  \\\n",
       "160       203  MicrosoftHelps    False  Tue Oct 31 22:08:00 +0000 2017   \n",
       "\n",
       "                                                  text response_tweet_id  \\\n",
       "160  @115751 Hello, Josh! To get better assistance ...               204   \n",
       "\n",
       "     in_response_to_tweet_id         company  \n",
       "160                    205.0  MicrosoftHelps  "
      ]
     },
     "execution_count": 20,
     "metadata": {},
     "output_type": "execute_result"
    }
   ],
   "source": [
    "sub[sub.tweet_id == 203]"
   ]
  },
  {
   "cell_type": "code",
   "execution_count": 21,
   "id": "cd53b341",
   "metadata": {},
   "outputs": [],
   "source": [
    "import pandas as pd\n",
    "import numpy as np\n",
    "from tqdm import tqdm"
   ]
  },
  {
   "cell_type": "code",
   "execution_count": 22,
   "id": "c8779621",
   "metadata": {},
   "outputs": [],
   "source": [
    "tqdm.pandas()"
   ]
  },
  {
   "cell_type": "code",
   "execution_count": 23,
   "id": "de9057cc",
   "metadata": {},
   "outputs": [
    {
     "name": "stderr",
     "output_type": "stream",
     "text": [
      "100%|█████████████████████████████████████████████████████████████████████| 2811774/2811774 [02:46<00:00, 16906.91it/s]\n"
     ]
    }
   ],
   "source": [
    "df[\"company\"] = df.progress_apply(extract_company, axis=1)"
   ]
  },
  {
   "cell_type": "code",
   "execution_count": 28,
   "id": "9f6d48a0",
   "metadata": {},
   "outputs": [],
   "source": [
    "df[\"start\"] = df.in_response_to_tweet_id.isna()"
   ]
  },
  {
   "cell_type": "code",
   "execution_count": 29,
   "id": "e8c2503b",
   "metadata": {},
   "outputs": [],
   "source": [
    "df[\"end\"] = df.response_tweet_id.isna()"
   ]
  },
  {
   "cell_type": "code",
   "execution_count": 75,
   "id": "4e2b5d28",
   "metadata": {},
   "outputs": [],
   "source": [
    "ex = df[df.tweet_id.isin([49,48,47,46,42,40,41,43,44,45])].copy()"
   ]
  },
  {
   "cell_type": "code",
   "execution_count": 76,
   "id": "959f0857",
   "metadata": {},
   "outputs": [
    {
     "data": {
      "text/plain": [
       "'@VerizonSupport What else can I provide? They refuse to help me because they cannot validate the account...'"
      ]
     },
     "execution_count": 76,
     "metadata": {},
     "output_type": "execute_result"
    }
   ],
   "source": [
    "ex.loc[40,:].text"
   ]
  },
  {
   "cell_type": "code",
   "execution_count": 77,
   "id": "ddf143fc",
   "metadata": {},
   "outputs": [],
   "source": [
    "def user_company_check(row):\n",
    "    if row.author_id.isnumeric():\n",
    "        return False #user\n",
    "    else:\n",
    "        return True #company"
   ]
  },
  {
   "cell_type": "code",
   "execution_count": 78,
   "id": "2cc9ec3b",
   "metadata": {},
   "outputs": [
    {
     "name": "stderr",
     "output_type": "stream",
     "text": [
      "100%|███████████████████████████████████████████████████████████████████████████████| 10/10 [00:00<00:00, 18876.26it/s]\n"
     ]
    }
   ],
   "source": [
    "ex[\"company_creator\"] = ex.progress_apply(user_company_check, axis=1)"
   ]
  },
  {
   "cell_type": "code",
   "execution_count": 89,
   "id": "db29abc5",
   "metadata": {},
   "outputs": [
    {
     "name": "stderr",
     "output_type": "stream",
     "text": [
      "100%|█████████████████████████████████████████████████████████████████████| 2811774/2811774 [01:10<00:00, 40134.26it/s]\n"
     ]
    }
   ],
   "source": [
    "df[\"company_creator\"] = df.progress_apply(user_company_check, axis=1)"
   ]
  },
  {
   "cell_type": "code",
   "execution_count": 95,
   "id": "a5f8bfa4",
   "metadata": {},
   "outputs": [],
   "source": [
    "ex[\"order\"] = np.NaN"
   ]
  },
  {
   "cell_type": "code",
   "execution_count": 133,
   "id": "445160cd",
   "metadata": {},
   "outputs": [],
   "source": [
    "class Node2:\n",
    "    order = 0\n",
    "    def __init__(self, tweet_id):\n",
    "        row = df[df.tweet_id == tweet_id].to_dict(orient=\"records\")[0]\n",
    "        ex.loc[df.tweet_id == tweet_id ,\"order\"] = Node2.order\n",
    "        self.value = row\n",
    "        if type(row[\"response_tweet_id\"]) == str :\n",
    "            self.childrens = [int(x) for x in row[\"response_tweet_id\"].split(\",\")]\n",
    "            list_to_check = self.childrens.copy()\n",
    "            for c in list_to_check:\n",
    "                if c not in tweet_ids:\n",
    "                    self.childrens.remove(c)\n",
    "        else:\n",
    "            self.childrens = []\n",
    "        self.children_nodes = list()\n",
    "        self.__go_deeper()\n",
    "    \n",
    "    def __go_deeper(self):\n",
    "        for children in self.childrens:\n",
    "            if (self.__check_children(children)):\n",
    "                self.children_nodes.append(self.__go_deeper_by_children(children))\n",
    "\n",
    "    def __go_deeper_by_children(self , children):\n",
    "        Node2.order= Node2.order +1 \n",
    "        children_node = Node2(children) \n",
    "        return children_node\n",
    "    \n",
    "    def __check_children(self, children):\n",
    "        return children in tweet_ids\n",
    "    \n",
    "    def explore(self):\n",
    "        print(self.value)\n",
    "        for children in self.children_nodes:\n",
    "            children.explore()\n",
    "            \n",
    "    def __repr__(self):\n",
    "        return \"{\\n\" + f\"{self.value},\\n {self.childrens}\" + \"\".join([repr(s) for s in self.children_nodes]) + \"\\n}\"\n",
    "    \n",
    "    def __str__ (self):\n",
    "        return \"{\\n\" + f\"{self.value}\" + \"\\n}\""
   ]
  },
  {
   "cell_type": "code",
   "execution_count": 134,
   "id": "df3d235d",
   "metadata": {
    "scrolled": false
   },
   "outputs": [],
   "source": [
    "n = Node2(49)"
   ]
  },
  {
   "cell_type": "code",
   "execution_count": null,
   "id": "431aa069",
   "metadata": {},
   "outputs": [],
   "source": []
  }
 ],
 "metadata": {
  "kernelspec": {
   "display_name": "Python 3",
   "language": "python",
   "name": "python3"
  },
  "language_info": {
   "codemirror_mode": {
    "name": "ipython",
    "version": 3
   },
   "file_extension": ".py",
   "mimetype": "text/x-python",
   "name": "python",
   "nbconvert_exporter": "python",
   "pygments_lexer": "ipython3",
   "version": "3.8.8"
  }
 },
 "nbformat": 4,
 "nbformat_minor": 5
}
